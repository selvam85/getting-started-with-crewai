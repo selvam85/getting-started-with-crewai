{
 "cells": [
  {
   "cell_type": "markdown",
   "id": "327901b1-8a6f-47f3-b603-713b2fead05f",
   "metadata": {},
   "source": [
    "# MongoDB Query Generator"
   ]
  },
  {
   "cell_type": "code",
   "execution_count": 1,
   "id": "c8141150-36e8-423e-a0a8-dd6b59bf3c9b",
   "metadata": {},
   "outputs": [],
   "source": [
    "# Warning control\n",
    "import warnings\n",
    "warnings.filterwarnings('ignore')"
   ]
  },
  {
   "cell_type": "markdown",
   "id": "7f749b84-e158-4fa9-8631-1649db09acae",
   "metadata": {},
   "source": [
    "## Install required libraries\n",
    "\n",
    "`!pip install crewai crewai_tools python-dotenv pymongo`"
   ]
  },
  {
   "cell_type": "markdown",
   "id": "c2a6349c-9f2d-4706-97dd-0a96f0c0a43e",
   "metadata": {},
   "source": [
    "## Set environment variables\n",
    "\n",
    "The below keys are present in the `.env` file - \n",
    "- OPENAI_API_KEY\n",
    "- OPENAI_MODEL_NAME\n",
    "- MONGODB_CONNECTION_STRING\n",
    "- DB_NAME\n",
    "- COLLECTION_NAME"
   ]
  },
  {
   "cell_type": "code",
   "execution_count": 2,
   "id": "76308635-bbaf-4d2a-ad29-44bfad1971b5",
   "metadata": {},
   "outputs": [],
   "source": [
    "import os\n",
    "from dotenv import load_dotenv\n",
    "\n",
    "_ = load_dotenv()\n",
    "\n",
    "MONGODB_CONNECTION_STRING = os.environ.get(\"MONGODB_CONNECTION_STRING\")\n",
    "DB_NAME = os.environ.get(\"DB_NAME\")\n",
    "COLLECTION_NAME = os.environ.get(\"COLLECTION_NAME\")"
   ]
  },
  {
   "cell_type": "code",
   "execution_count": 3,
   "id": "9802bd61-f730-4df1-a257-19298de9ea5a",
   "metadata": {},
   "outputs": [],
   "source": [
    "from crewai import Agent, Crew, Task\n",
    "from crewai_tools import BaseTool\n",
    "import json\n",
    "from pymongo import MongoClient"
   ]
  },
  {
   "cell_type": "markdown",
   "id": "bbae4ca2-42e2-4a65-865e-a0507558ef2f",
   "metadata": {},
   "source": [
    "## Create Agents"
   ]
  },
  {
   "cell_type": "code",
   "execution_count": 4,
   "id": "c44937e0-a226-4fbc-addb-049d9eb4ce44",
   "metadata": {},
   "outputs": [],
   "source": [
    "mongodb_expert_agent = Agent(\n",
    "    role=\"MongoDB Expert\",\n",
    "    goal=\"Write MongoDB queries for a given input and expected output\",\n",
    "    backstory=(\"You are a Principal engineer and an expert on MongoDB. \"\n",
    "               \"You have a solid understanding of the NoSQL DB principles \"\n",
    "               \"in general particularly in MongoDB. You are great at data modeling \"\n",
    "               \"in MongoDB, querying and everything related to MongoDB\"),\n",
    "    allow_delegation=False,\n",
    "    verbose=True\n",
    ")"
   ]
  },
  {
   "cell_type": "code",
   "execution_count": 5,
   "id": "82ad8487-275c-42b2-85d5-f91ecec9ba06",
   "metadata": {},
   "outputs": [],
   "source": [
    "qa_agent = Agent(\n",
    "    role=\"Quality Assurance Expert\",\n",
    "    goal=\"Review the MongoDB query for correctness and validatity\",\n",
    "    backstory=(\"You are a tester who tests the MongoDB queries to \"\n",
    "               \"ensure that it produces the expected output. \"\n",
    "               \"You test and validate the work of MongoDB Expert \"\n",
    "               \"and work with them to get to a proper query for the \"\n",
    "               \"given problem.\"),\n",
    "    allow_delegation=True,\n",
    "    verbose=True\n",
    ")"
   ]
  },
  {
   "cell_type": "markdown",
   "id": "d893121d-f911-49f4-ae1a-33667bfea632",
   "metadata": {},
   "source": [
    "## Create a custom Tool"
   ]
  },
  {
   "cell_type": "code",
   "execution_count": 6,
   "id": "76a0058b-c09f-4d6a-8f08-c984b71de01e",
   "metadata": {},
   "outputs": [],
   "source": [
    "class MongoDBQueryTool(BaseTool):\n",
    "    name: str = \"MongoDB Query Tool\"\n",
    "    description: str = (\"This tool verifies a MongoDB query \"\n",
    "                        \"by executing it on a given input \"\n",
    "                        \"and comparing the output with the expected output. \")\n",
    "\n",
    "    mongodb_conn_str: str\n",
    "    db_name: str\n",
    "    coll_name: str\n",
    "    \n",
    "    def _run(self, input_data: dict, expected_output: dict, mongodb_query: dict):\n",
    "        db = self.get_database()\n",
    "        collection = db[self.coll_name]\n",
    "    \n",
    "        self.delete_data(collection)\n",
    "        self.insert_data(collection, input_data)\n",
    "    \n",
    "        result_from_db = self.execute_query(collection, mongodb_query)\n",
    "        print(f\"Result: {result_from_db}\")\n",
    "    \n",
    "        # Sort the lists based on a canonical representation of each dictionary\n",
    "        sorted_list1 = sorted(expected_output, key=lambda x: json.dumps(x, sort_keys=True))\n",
    "        sorted_list2 = sorted(result_from_db, key=lambda x: json.dumps(x, sort_keys=True))\n",
    "        \n",
    "        return sorted_list1 == sorted_list2\n",
    "\n",
    "    def get_database(self):\n",
    "        client = MongoClient(self.mongodb_conn_str)\n",
    "        return client[self.db_name]\n",
    "    \n",
    "    def insert_data(self, collection, data_array):\n",
    "        if len(data_array) != 0 and collection is not None:\n",
    "            collection.insert_many(data_array)\n",
    "    \n",
    "    def delete_data(self, collection):\n",
    "        if collection is not None:\n",
    "            collection.delete_many({})\n",
    "    \n",
    "    def execute_query(self, collection, aggregation_pipeline=None):\n",
    "        if aggregation_pipeline:\n",
    "            result = collection.aggregate(aggregation_pipeline)\n",
    "        else:\n",
    "            raise ValueError(\"Aggregation pipeline must be provided.\")\n",
    "        return list(result)"
   ]
  },
  {
   "cell_type": "code",
   "execution_count": 7,
   "id": "ae15486a-b9a9-46bd-b8e3-f289dc51409e",
   "metadata": {},
   "outputs": [],
   "source": [
    "query_tool = MongoDBQueryTool(mongodb_conn_str=MONGODB_CONNECTION_STRING, db_name=DB_NAME, coll_name=COLLECTION_NAME)"
   ]
  },
  {
   "cell_type": "markdown",
   "id": "27b7f4d8-cfc0-4b09-b237-f213b2570ce8",
   "metadata": {},
   "source": [
    "## Create Tasks"
   ]
  },
  {
   "cell_type": "code",
   "execution_count": 8,
   "id": "ffbba387-2335-42f4-b26e-a6a2e78d3630",
   "metadata": {},
   "outputs": [],
   "source": [
    "write_query = Task(\n",
    "    description=(\"1. Write a MongoDB aggregation pipeline that would \"\n",
    "                 \"produce the expected output for the given input. \"\n",
    "                 \"2. The aggregation pipeline written should \"\n",
    "                 \"only be the list of stages in the aggregation pipeline \"\n",
    "                 \"and shouldn't contain the `db.collection.aggregate` prefix. \"\n",
    "                 \"3. If the Quality Assurance Expert finds an error with the \"\n",
    "                 \"produce query, then review the error and come up \"\n",
    "                 \"with a query that could avoid that issue and produce \"\n",
    "                 \"the expected output. \"\n",
    "                 \"Input data: {input_data} \"\n",
    "                 \"Expected output data: {expected_output} \"),\n",
    "    expected_output=\"The MongoDB aggregation pipeline without the `db.collection.aggregate` prefix.\",\n",
    "    agent=mongodb_expert_agent\n",
    ")"
   ]
  },
  {
   "cell_type": "code",
   "execution_count": 9,
   "id": "6ffc0e0e-a47d-4943-b1e5-e2583b576d7f",
   "metadata": {},
   "outputs": [],
   "source": [
    "verify_query = Task(\n",
    "    description=(\"1. Verify the query produced by MongoDB Expert \"\n",
    "                 \"to check if it produces the expected output \"\n",
    "                 \"for the given input. \"\n",
    "                 \"2. Utilize the `MongoDB Query Tool` to verify the query \"\n",
    "                 \"by passing the input data, expected output and \"\n",
    "                 \"the aggregation pipeline. \"\n",
    "                 \"3. If the tool responds with True, then the query is correct, \"\n",
    "                 \"else, it is not. In the event it is not a correct query \"\n",
    "                 \"then work with the MongoDB Expert to produce an updated query. \"\n",
    "                 \"4. Once the accurate query is identified, return that as the result. \"\n",
    "                 \"Input data: {input_data} \"\n",
    "                 \"Expected output data: {expected_output} \"),\n",
    "    expected_output=\"The correct MongoDB aggregation pipeline that \"\n",
    "        \"produces the expected output for the given input. \"\n",
    "        \"The output should contain just the query without JSON formatting, \"\n",
    "        \"a dict is what is expected. \",\n",
    "    tools=[query_tool],\n",
    "    agent=qa_agent\n",
    ")"
   ]
  },
  {
   "cell_type": "markdown",
   "id": "5d6315d7-5c9a-429e-bd6e-ba0b328a3bbb",
   "metadata": {},
   "source": [
    "## Create Crew"
   ]
  },
  {
   "cell_type": "code",
   "execution_count": 10,
   "id": "159fc05e-8496-4053-a446-0d19602705d9",
   "metadata": {},
   "outputs": [],
   "source": [
    "mongodb_crew = Crew(\n",
    "    agents=[mongodb_expert_agent, qa_agent],\n",
    "    tasks=[write_query, verify_query],\n",
    "    verbose=True\n",
    ")"
   ]
  },
  {
   "cell_type": "markdown",
   "id": "050e96b5-f4e9-473c-ac5f-60ba7193af22",
   "metadata": {},
   "source": [
    "## Data"
   ]
  },
  {
   "cell_type": "code",
   "execution_count": 11,
   "id": "77f592e0-f941-4200-a8ca-a7e011a26653",
   "metadata": {},
   "outputs": [],
   "source": [
    "input_data = [\n",
    "    { \"name\": \"Sachin\", \"team\": \"India\" },\n",
    "    { \"name\": \"Sourav\", \"team\": \"India\" },\n",
    "    { \"name\": \"Lara\", \"team\": \"West Indies\" }\n",
    "]\n",
    "\n",
    "output_data = [\n",
    "    { \"team\": \"India\", \"playerCount\": 2 },\n",
    "    { \"team\": \"West Indies\", \"playerCount\": 1 }\n",
    "]"
   ]
  },
  {
   "cell_type": "code",
   "execution_count": 12,
   "id": "0327fadf-3d4e-4fc5-9fce-17d8f0bd1c0e",
   "metadata": {},
   "outputs": [],
   "source": [
    "inputs = {\n",
    "    \"input_data\": input_data,\n",
    "    \"expected_output\": output_data\n",
    "}"
   ]
  },
  {
   "cell_type": "markdown",
   "id": "2426cea8-afac-4514-8d7a-b3ef1996405a",
   "metadata": {},
   "source": [
    "## Run the crew"
   ]
  },
  {
   "cell_type": "code",
   "execution_count": 13,
   "id": "516adfd4-7897-4801-900a-38e25108d3a2",
   "metadata": {},
   "outputs": [
    {
     "name": "stdout",
     "output_type": "stream",
     "text": [
      "\u001b[1m\u001b[95m [DEBUG]: == Working Agent: MongoDB Expert\u001b[00m\n",
      "\u001b[1m\u001b[95m [INFO]: == Starting Task: 1. Write a MongoDB aggregation pipeline that would produce the expected output for the given input. 2. The aggregation pipeline written should only be the list of stages in the aggregation pipeline and shouldn't contain the `db.collection.aggregate` prefix. 3. If the Quality Assurance Expert finds an error with the produce query, then review the error and come up with a query that could avoid that issue and produce the expected output. Input data: [{'name': 'Sachin', 'team': 'India'}, {'name': 'Sourav', 'team': 'India'}, {'name': 'Lara', 'team': 'West Indies'}] Expected output data: [{'team': 'India', 'playerCount': 2}, {'team': 'West Indies', 'playerCount': 1}] \u001b[00m\n",
      "\n",
      "\n",
      "\u001b[1m> Entering new CrewAgentExecutor chain...\u001b[0m\n",
      "\u001b[32;1m\u001b[1;3mI now can give a great answer.\n",
      "\n",
      "Final Answer:\n",
      "```json\n",
      "[\n",
      "    {\n",
      "        \"$group\": {\n",
      "            \"_id\": \"$team\",\n",
      "            \"playerCount\": {\"$sum\": 1}\n",
      "        }\n",
      "    },\n",
      "    {\n",
      "        \"$project\": {\n",
      "            \"_id\": 0,\n",
      "            \"team\": \"$_id\",\n",
      "            \"playerCount\": 1\n",
      "        }\n",
      "    }\n",
      "]\n",
      "```\u001b[0m\n",
      "\n",
      "\u001b[1m> Finished chain.\u001b[0m\n",
      "\u001b[1m\u001b[92m [DEBUG]: == [MongoDB Expert] Task output: ```json\n",
      "[\n",
      "    {\n",
      "        \"$group\": {\n",
      "            \"_id\": \"$team\",\n",
      "            \"playerCount\": {\"$sum\": 1}\n",
      "        }\n",
      "    },\n",
      "    {\n",
      "        \"$project\": {\n",
      "            \"_id\": 0,\n",
      "            \"team\": \"$_id\",\n",
      "            \"playerCount\": 1\n",
      "        }\n",
      "    }\n",
      "]\n",
      "```\n",
      "\n",
      "\u001b[00m\n",
      "\u001b[1m\u001b[95m [DEBUG]: == Working Agent: Quality Assurance Expert\u001b[00m\n",
      "\u001b[1m\u001b[95m [INFO]: == Starting Task: 1. Verify the query produced by MongoDB Expert to check if it produces the expected output for the given input. 2. Utilize the `MongoDB Query Tool` to verify the query by passing the input data, expected output and the aggregation pipeline. 3. If the tool responds with True, then the query is correct, else, it is not. In the event it is not a correct query then work with the MongoDB Expert to produce an updated query. 4. Once the accurate query is identified, return that as the result. Input data: [{'name': 'Sachin', 'team': 'India'}, {'name': 'Sourav', 'team': 'India'}, {'name': 'Lara', 'team': 'West Indies'}] Expected output data: [{'team': 'India', 'playerCount': 2}, {'team': 'West Indies', 'playerCount': 1}] \u001b[00m\n",
      "\n",
      "\n",
      "\u001b[1m> Entering new CrewAgentExecutor chain...\u001b[0m\n",
      "\u001b[32;1m\u001b[1;3mThought: First, I need to verify the given MongoDB query using the MongoDB Query Tool by comparing the query output against the expected output using provided input data.\n",
      "\n",
      "Action: MongoDB Query Tool\n",
      "Action Input: {\"input_data\": [{\"name\": \"Sachin\", \"team\": \"India\"}, {\"name\": \"Sourav\", \"team\": \"India\"}, {\"name\": \"Lara\", \"team\": \"West Indies\"}], \"expected_output\": [{\"team\": \"India\", \"playerCount\": 2}, {\"team\": \"West Indies\", \"playerCount\": 1}], \"mongodb_query\": [{\"$group\": {\"_id\": \"$team\", \"playerCount\": {\"$sum\": 1}}}, {\"$project\": {\"_id\": 0, \"team\": \"$_id\", \"playerCount\": 1}}]}\u001b[0mResult: [{'playerCount': 2, 'team': 'India'}, {'playerCount': 1, 'team': 'West Indies'}]\n",
      "\u001b[95m \n",
      "\n",
      "True\n",
      "\u001b[00m\n",
      "\u001b[32;1m\u001b[1;3mThought: Since the MongoDB Query Tool returned True, it indicates that the MongoDB query produces the expected output for the given input data.\n",
      "\n",
      "Final Answer: [\n",
      "    {\n",
      "        \"$group\": {\n",
      "            \"_id\": \"$team\",\n",
      "            \"playerCount\": {\"$sum\": 1}\n",
      "        }\n",
      "    },\n",
      "    {\n",
      "        \"$project\": {\n",
      "            \"_id\": 0,\n",
      "            \"team\": \"$_id\",\n",
      "            \"playerCount\": 1\n",
      "        }\n",
      "    }\n",
      "]\u001b[0m\n",
      "\n",
      "\u001b[1m> Finished chain.\u001b[0m\n",
      "\u001b[1m\u001b[92m [DEBUG]: == [Quality Assurance Expert] Task output: [\n",
      "    {\n",
      "        \"$group\": {\n",
      "            \"_id\": \"$team\",\n",
      "            \"playerCount\": {\"$sum\": 1}\n",
      "        }\n",
      "    },\n",
      "    {\n",
      "        \"$project\": {\n",
      "            \"_id\": 0,\n",
      "            \"team\": \"$_id\",\n",
      "            \"playerCount\": 1\n",
      "        }\n",
      "    }\n",
      "]\n",
      "\n",
      "\u001b[00m\n"
     ]
    }
   ],
   "source": [
    "result = mongodb_crew.kickoff(inputs=inputs)"
   ]
  },
  {
   "cell_type": "code",
   "execution_count": 14,
   "id": "809c3f6b-9d3e-4884-a396-c78f1631f0f0",
   "metadata": {},
   "outputs": [
    {
     "name": "stdout",
     "output_type": "stream",
     "text": [
      "[\n",
      "    {\n",
      "        \"$group\": {\n",
      "            \"_id\": \"$team\",\n",
      "            \"playerCount\": {\"$sum\": 1}\n",
      "        }\n",
      "    },\n",
      "    {\n",
      "        \"$project\": {\n",
      "            \"_id\": 0,\n",
      "            \"team\": \"$_id\",\n",
      "            \"playerCount\": 1\n",
      "        }\n",
      "    }\n",
      "]\n"
     ]
    }
   ],
   "source": [
    "print(result)"
   ]
  },
  {
   "cell_type": "code",
   "execution_count": 17,
   "id": "c99b65d1-1356-42ef-a2f3-acfb991b2acc",
   "metadata": {},
   "outputs": [
    {
     "data": {
      "text/plain": [
       "[{'$group': {'_id': '$team', 'playerCount': {'$sum': 1}}},\n",
       " {'$project': {'_id': 0, 'team': '$_id', 'playerCount': 1}}]"
      ]
     },
     "execution_count": 17,
     "metadata": {},
     "output_type": "execute_result"
    }
   ],
   "source": [
    "json.loads(result)"
   ]
  },
  {
   "cell_type": "code",
   "execution_count": null,
   "id": "a1ae7cf9-65c7-4d04-8784-2234985294e3",
   "metadata": {},
   "outputs": [],
   "source": []
  }
 ],
 "metadata": {
  "kernelspec": {
   "display_name": ".venv_gs_crew",
   "language": "python",
   "name": ".venv_gs_crew"
  },
  "language_info": {
   "codemirror_mode": {
    "name": "ipython",
    "version": 3
   },
   "file_extension": ".py",
   "mimetype": "text/x-python",
   "name": "python",
   "nbconvert_exporter": "python",
   "pygments_lexer": "ipython3",
   "version": "3.11.8"
  }
 },
 "nbformat": 4,
 "nbformat_minor": 5
}
